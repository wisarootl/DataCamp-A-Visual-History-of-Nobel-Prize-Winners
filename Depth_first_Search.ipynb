{
  "nbformat": 4,
  "nbformat_minor": 0,
  "metadata": {
    "colab": {
      "name": "Depth-first Search.ipynb",
      "provenance": [],
      "authorship_tag": "ABX9TyM5+AjaPN5m4G1gD2yKxP+z",
      "include_colab_link": true
    },
    "kernelspec": {
      "name": "python3",
      "display_name": "Python 3"
    },
    "language_info": {
      "name": "python"
    }
  },
  "cells": [
    {
      "cell_type": "markdown",
      "metadata": {
        "id": "view-in-github",
        "colab_type": "text"
      },
      "source": [
        "<a href=\"https://colab.research.google.com/github/tittae/DataCamp-A-Visual-History-of-Nobel-Prize-Winners/blob/master/Depth_first_Search.ipynb\" target=\"_parent\"><img src=\"https://colab.research.google.com/assets/colab-badge.svg\" alt=\"Open In Colab\"/></a>"
      ]
    },
    {
      "cell_type": "markdown",
      "metadata": {
        "id": "_BQUPo1P3fbB"
      },
      "source": [
        "# Depth-first Search (DFS)"
      ]
    },
    {
      "cell_type": "markdown",
      "metadata": {
        "id": "lKEFsbcR3qmo"
      },
      "source": [
        "You're given a Node class that has a name and an array of optional children nodes. When put together, nodes form an acyclic tree-like structure.\n",
        "\n",
        "Implement the depthFirstSearch method on the Node class, which takes in an empty array, traverses the tree using the Depth-first Search approach (specifically navigating the tree from left to right), stores all of the nodes' names in the input array, and returns it.\n",
        "\n",
        "If you're unfamiliar with Depth-first Search, we recommend watching the Conceptual Overview section of this question's video explanation before starting to code."
      ]
    },
    {
      "cell_type": "markdown",
      "metadata": {
        "id": "_KWfjSlh3sNt"
      },
      "source": [
        "Sample Input\n",
        "\n",
        "```\n",
        "graph = A\n",
        "     /  |  \\\n",
        "    B   C   D\n",
        "   / \\     / \\\n",
        "  E   F   G   H\n",
        "     / \\   \\\n",
        "    I   J   K\n",
        "```\n",
        "\n"
      ]
    },
    {
      "cell_type": "markdown",
      "metadata": {
        "id": "E6buDBW33u4H"
      },
      "source": [
        "Sample Output\n",
        "\n",
        "```\n",
        "[\"A\", \"B\", \"E\", \"F\", \"I\", \"J\", \"C\", \"D\", \"G\", \"K\", \"H\"]\n",
        "```\n",
        "\n"
      ]
    },
    {
      "cell_type": "code",
      "metadata": {
        "id": "O1jhK1wx3rOW"
      },
      "source": [
        "class Node:\n",
        "    def __init__(self, name):\n",
        "        self.children = []\n",
        "        self.name = name\n",
        "\n",
        "    def addChild(self, name):\n",
        "        self.children.append(Node(name))\n",
        "        return self\n",
        "\n",
        "    def depthFirstSearch(self, array = []):\n",
        "        # init fringe\n",
        "        fringe = [self]\n",
        "        array = []\n",
        "\n",
        "        while True:\n",
        "            # is fringe empty?\n",
        "            if fringe == []:\n",
        "              return array\n",
        "\n",
        "            # remove front\n",
        "            front = fringe.pop()\n",
        "            array.append(front.name)\n",
        "\n",
        "            # gen successor\n",
        "            successors = front.children.reverse()\n",
        "\n",
        "            # insert successor\n",
        "            for child in front.children:\n",
        "              fringe.append(child)"
      ],
      "execution_count": null,
      "outputs": []
    },
    {
      "cell_type": "markdown",
      "metadata": {
        "id": "R5i6efQo_vhp"
      },
      "source": [
        "Test"
      ]
    },
    {
      "cell_type": "code",
      "metadata": {
        "id": "zn9Voc6G_SwQ"
      },
      "source": [
        "graph = Node(\"A\")\n",
        "_ = graph.addChild(\"B\").addChild(\"C\").addChild(\"D\")\n",
        "_ = graph.children[0].addChild(\"E\").addChild(\"F\")\n",
        "_ = graph.children[2].addChild(\"G\").addChild(\"H\")\n",
        "_ = graph.children[0].children[1].addChild(\"I\").addChild(\"J\")\n",
        "_ = graph.children[2].children[0].addChild(\"K\")\n",
        "# expected output: [\"A\", \"B\", \"E\", \"F\", \"I\", \"J\", \"C\", \"D\", \"G\", \"K\", \"H\"])"
      ],
      "execution_count": null,
      "outputs": []
    },
    {
      "cell_type": "code",
      "metadata": {
        "colab": {
          "base_uri": "https://localhost:8080/"
        },
        "id": "81rt_U2F_ewt",
        "outputId": "19b7f6c1-41aa-4352-f00e-d66bb11233ee"
      },
      "source": [
        "graph.depthFirstSearch()"
      ],
      "execution_count": null,
      "outputs": [
        {
          "output_type": "execute_result",
          "data": {
            "text/plain": [
              "['A', 'B', 'E', 'F', 'I', 'J', 'C', 'D', 'G', 'K', 'H']"
            ]
          },
          "metadata": {},
          "execution_count": 17
        }
      ]
    }
  ]
}